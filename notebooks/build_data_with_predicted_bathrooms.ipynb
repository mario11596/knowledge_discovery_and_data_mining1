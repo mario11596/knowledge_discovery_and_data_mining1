{
 "cells": [
  {
   "cell_type": "code",
   "execution_count": 11,
   "id": "31403bf5-4bc3-468b-a44a-814d08e805fb",
   "metadata": {},
   "outputs": [],
   "source": [
    "import pandas as pd"
   ]
  },
  {
   "cell_type": "code",
   "execution_count": 12,
   "id": "b5cb4f19-c480-4411-807e-4423219b31d6",
   "metadata": {},
   "outputs": [],
   "source": [
    "df = pd.read_csv('../files/preprocessed_1_without_DateSinceForSale_predicted_Bathrooms.csv')"
   ]
  },
  {
   "cell_type": "code",
   "execution_count": 13,
   "id": "4efb0019-ead2-4ba4-87f6-e28d387018e5",
   "metadata": {
    "scrolled": true
   },
   "outputs": [
    {
     "name": "stdout",
     "output_type": "stream",
     "text": [
      "<class 'pandas.core.frame.DataFrame'>\n",
      "RangeIndex: 941 entries, 0 to 940\n",
      "Data columns (total 22 columns):\n",
      " #   Column               Non-Null Count  Dtype  \n",
      "---  ------               --------------  -----  \n",
      " 0   Bedrooms             941 non-null    float64\n",
      " 1   Bathrooms            717 non-null    float64\n",
      " 2   SquareFootageHouse   941 non-null    float64\n",
      " 3   Location             935 non-null    float64\n",
      " 4   Age                  941 non-null    float64\n",
      " 5   PoolQuality          941 non-null    float64\n",
      " 6   HasPhotovoltaics     707 non-null    object \n",
      " 7   HeatingType          941 non-null    int64  \n",
      " 8   HasFiberglass        941 non-null    int64  \n",
      " 9   IsFurnished          941 non-null    int64  \n",
      " 10  DateSinceForSale     941 non-null    object \n",
      " 11  HouseColor           941 non-null    object \n",
      " 12  HasFireplace         941 non-null    bool   \n",
      " 13  KitchensQuality      941 non-null    int64  \n",
      " 14  BathroomsQuality     941 non-null    int64  \n",
      " 15  BedroomsQuality      941 non-null    int64  \n",
      " 16  LivingRoomsQuality   941 non-null    int64  \n",
      " 17  SquareFootageGarden  941 non-null    float64\n",
      " 18  PreviousOwnerRating  941 non-null    float64\n",
      " 19  HeatingCosts         941 non-null    float64\n",
      " 20  Price                941 non-null    float64\n",
      " 21  WindowMaterial       941 non-null    int64  \n",
      "dtypes: bool(1), float64(10), int64(8), object(3)\n",
      "memory usage: 155.4+ KB\n"
     ]
    }
   ],
   "source": [
    "df.info()"
   ]
  },
  {
   "cell_type": "code",
   "execution_count": 14,
   "id": "65545bad-3b49-425a-a1f7-b3255026c4fb",
   "metadata": {},
   "outputs": [],
   "source": [
    "data_for_prediction = df[['Bedrooms', 'SquareFootageHouse', 'HeatingCosts', 'Bathrooms']].copy()"
   ]
  },
  {
   "cell_type": "code",
   "execution_count": 15,
   "id": "9edab337-521f-4810-ae44-0adef29abc2f",
   "metadata": {},
   "outputs": [
    {
     "name": "stdout",
     "output_type": "stream",
     "text": [
      "<class 'pandas.core.frame.DataFrame'>\n",
      "RangeIndex: 941 entries, 0 to 940\n",
      "Data columns (total 4 columns):\n",
      " #   Column              Non-Null Count  Dtype  \n",
      "---  ------              --------------  -----  \n",
      " 0   Bedrooms            941 non-null    float64\n",
      " 1   SquareFootageHouse  941 non-null    float64\n",
      " 2   HeatingCosts        941 non-null    float64\n",
      " 3   Bathrooms           717 non-null    float64\n",
      "dtypes: float64(4)\n",
      "memory usage: 29.5 KB\n"
     ]
    }
   ],
   "source": [
    "data_for_prediction.info()"
   ]
  },
  {
   "cell_type": "code",
   "execution_count": 17,
   "id": "da464502-a69b-43c5-80ed-a451eaabdf2a",
   "metadata": {},
   "outputs": [],
   "source": [
    "from sklearn.linear_model import LinearRegression\n",
    "from sklearn.model_selection import train_test_split"
   ]
  },
  {
   "cell_type": "code",
   "execution_count": 18,
   "id": "cbfd860a-5e10-46fe-b94e-efc19d7b7735",
   "metadata": {},
   "outputs": [],
   "source": [
    "# Split the data into complete cases and cases with missing #Bathrooms\n",
    "complete_data = data_for_prediction.dropna(subset=['Bathrooms'])\n",
    "incomplete_data = data_for_prediction[data_for_prediction['Bathrooms'].isna()]\n",
    "\n",
    "# Separate features and target variable from the complete data\n",
    "X_complete = complete_data[['Bedrooms', 'SquareFootageHouse', 'HeatingCosts']]\n",
    "y_complete = complete_data['Bathrooms']\n",
    "\n",
    "# Train the model on the complete data\n",
    "model = LinearRegression()\n",
    "model.fit(X_complete, y_complete)\n",
    "\n",
    "# Prepare the incomplete data (without the target column)\n",
    "X_incomplete = incomplete_data[['Bedrooms', 'SquareFootageHouse', 'HeatingCosts']]\n",
    "\n",
    "# Predict the missing values\n",
    "predicted_bathrooms = model.predict(X_incomplete)\n",
    "\n",
    "# Fill the missing values with the predictions\n",
    "data_for_prediction.loc[data_for_prediction['Bathrooms'].isna(), 'Bathrooms'] = predicted_bathrooms"
   ]
  },
  {
   "cell_type": "code",
   "execution_count": 19,
   "id": "00f09699-5c54-4d11-b0c3-fb4cd99cda64",
   "metadata": {},
   "outputs": [
    {
     "name": "stdout",
     "output_type": "stream",
     "text": [
      "<class 'pandas.core.frame.DataFrame'>\n",
      "RangeIndex: 941 entries, 0 to 940\n",
      "Data columns (total 4 columns):\n",
      " #   Column              Non-Null Count  Dtype  \n",
      "---  ------              --------------  -----  \n",
      " 0   Bedrooms            941 non-null    float64\n",
      " 1   SquareFootageHouse  941 non-null    float64\n",
      " 2   HeatingCosts        941 non-null    float64\n",
      " 3   Bathrooms           941 non-null    float64\n",
      "dtypes: float64(4)\n",
      "memory usage: 29.5 KB\n"
     ]
    }
   ],
   "source": [
    "data_for_prediction.info()"
   ]
  },
  {
   "cell_type": "code",
   "execution_count": 25,
   "id": "82cb3129-d9a3-4511-95bf-ecb6fbd8555c",
   "metadata": {},
   "outputs": [
    {
     "name": "stdout",
     "output_type": "stream",
     "text": [
      "<class 'pandas.core.frame.DataFrame'>\n",
      "RangeIndex: 941 entries, 0 to 940\n",
      "Data columns (total 21 columns):\n",
      " #   Column               Non-Null Count  Dtype  \n",
      "---  ------               --------------  -----  \n",
      " 0   Bedrooms             941 non-null    float64\n",
      " 1   Bathrooms            941 non-null    float64\n",
      " 2   SquareFootageHouse   941 non-null    float64\n",
      " 3   Location             935 non-null    float64\n",
      " 4   Age                  941 non-null    float64\n",
      " 5   PoolQuality          941 non-null    float64\n",
      " 6   HasPhotovoltaics     707 non-null    object \n",
      " 7   HeatingType          941 non-null    int64  \n",
      " 8   HasFiberglass        941 non-null    int64  \n",
      " 9   IsFurnished          941 non-null    int64  \n",
      " 10  HouseColor           941 non-null    object \n",
      " 11  HasFireplace         941 non-null    bool   \n",
      " 12  KitchensQuality      941 non-null    int64  \n",
      " 13  BathroomsQuality     941 non-null    int64  \n",
      " 14  BedroomsQuality      941 non-null    int64  \n",
      " 15  LivingRoomsQuality   941 non-null    int64  \n",
      " 16  SquareFootageGarden  941 non-null    float64\n",
      " 17  PreviousOwnerRating  941 non-null    float64\n",
      " 18  HeatingCosts         941 non-null    float64\n",
      " 19  Price                941 non-null    float64\n",
      " 20  WindowMaterial       941 non-null    int64  \n",
      "dtypes: bool(1), float64(10), int64(8), object(2)\n",
      "memory usage: 148.1+ KB\n"
     ]
    }
   ],
   "source": [
    "df.info()"
   ]
  },
  {
   "cell_type": "code",
   "execution_count": 21,
   "id": "5bf33b6b-bf39-4802-8757-f29dbc7b25da",
   "metadata": {},
   "outputs": [],
   "source": [
    "df['Bathrooms'] = data_for_prediction['Bathrooms']"
   ]
  },
  {
   "cell_type": "code",
   "execution_count": 24,
   "id": "06ef2eff-21ad-4939-99cb-5f79a3f5e2b2",
   "metadata": {},
   "outputs": [],
   "source": [
    "df = df.drop(columns=['DateSinceForSale'])"
   ]
  },
  {
   "cell_type": "code",
   "execution_count": 26,
   "id": "7a022eeb-00ad-4303-acb5-49b9ca0b3453",
   "metadata": {},
   "outputs": [],
   "source": [
    "df.copy().dropna(subset=['HasPhotovoltaics']).to_csv('../files/preprocessed_2_without_DateSinceForSale_predicted_Bathrooms.csv', index=False)"
   ]
  },
  {
   "cell_type": "code",
   "execution_count": 27,
   "id": "35d42e78-d8a8-4d61-a7a3-5ef968f36cde",
   "metadata": {},
   "outputs": [],
   "source": [
    "df['HasPhotovoltaics'] = df['HasPhotovoltaics'].fillna('isNone')\n",
    "df['HasPhotovoltaics'] = df['HasPhotovoltaics'].replace({True: 'isTrue', False: 'isFalse'})"
   ]
  },
  {
   "cell_type": "code",
   "execution_count": 28,
   "id": "786528b7-59bc-44af-93aa-b159ea003a16",
   "metadata": {},
   "outputs": [
    {
     "data": {
      "text/plain": [
       "array(['isFalse', 'isTrue', 'isNone'], dtype=object)"
      ]
     },
     "execution_count": 28,
     "metadata": {},
     "output_type": "execute_result"
    }
   ],
   "source": [
    "df['HasPhotovoltaics'].unique()"
   ]
  },
  {
   "cell_type": "code",
   "execution_count": 29,
   "id": "a9098268-637a-4a10-b509-ea22ca6e4cdb",
   "metadata": {},
   "outputs": [],
   "source": [
    "df.to_csv('../files/preprocessed_1_without_DateSinceForSale_predicted_Bathrooms.csv', index=False)"
   ]
  },
  {
   "cell_type": "code",
   "execution_count": null,
   "id": "175802e1-3e68-416e-a6a5-8c5248af5d04",
   "metadata": {},
   "outputs": [],
   "source": []
  }
 ],
 "metadata": {
  "kernelspec": {
   "display_name": "Python 3 (ipykernel)",
   "language": "python",
   "name": "python3"
  },
  "language_info": {
   "codemirror_mode": {
    "name": "ipython",
    "version": 3
   },
   "file_extension": ".py",
   "mimetype": "text/x-python",
   "name": "python",
   "nbconvert_exporter": "python",
   "pygments_lexer": "ipython3",
   "version": "3.11.4"
  }
 },
 "nbformat": 4,
 "nbformat_minor": 5
}
