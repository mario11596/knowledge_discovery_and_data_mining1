{
 "cells": [
  {
   "cell_type": "code",
   "execution_count": 1,
   "id": "5f74c4b8-2a6d-401c-8ad6-15953f9b05c9",
   "metadata": {},
   "outputs": [],
   "source": [
    "import pandas as pd"
   ]
  },
  {
   "cell_type": "code",
   "execution_count": 44,
   "id": "465ab23b-641c-464f-83a1-2a6cb56a904b",
   "metadata": {},
   "outputs": [],
   "source": [
    "df = pd.read_csv('../files/preprocessed_1.csv')"
   ]
  },
  {
   "cell_type": "code",
   "execution_count": 45,
   "id": "17a8b073-9beb-41e4-9c16-d59df1bf258e",
   "metadata": {},
   "outputs": [
    {
     "name": "stdout",
     "output_type": "stream",
     "text": [
      "<class 'pandas.core.frame.DataFrame'>\n",
      "RangeIndex: 941 entries, 0 to 940\n",
      "Data columns (total 22 columns):\n",
      " #   Column               Non-Null Count  Dtype  \n",
      "---  ------               --------------  -----  \n",
      " 0   Bedrooms             941 non-null    float64\n",
      " 1   Bathrooms            941 non-null    float64\n",
      " 2   SquareFootageHouse   941 non-null    float64\n",
      " 3   Location             935 non-null    float64\n",
      " 4   Age                  941 non-null    float64\n",
      " 5   PoolQuality          941 non-null    float64\n",
      " 6   HasPhotovoltaics     707 non-null    object \n",
      " 7   HeatingType          941 non-null    int64  \n",
      " 8   HasFiberglass        941 non-null    int64  \n",
      " 9   IsFurnished          941 non-null    int64  \n",
      " 10  DateSinceForSale     941 non-null    object \n",
      " 11  HouseColor           941 non-null    object \n",
      " 12  HasFireplace         941 non-null    bool   \n",
      " 13  KitchensQuality      941 non-null    int64  \n",
      " 14  BathroomsQuality     941 non-null    int64  \n",
      " 15  BedroomsQuality      941 non-null    int64  \n",
      " 16  LivingRoomsQuality   941 non-null    int64  \n",
      " 17  SquareFootageGarden  941 non-null    float64\n",
      " 18  PreviousOwnerRating  941 non-null    float64\n",
      " 19  HeatingCosts         941 non-null    float64\n",
      " 20  Price                941 non-null    float64\n",
      " 21  WindowMaterial       941 non-null    int64  \n",
      "dtypes: bool(1), float64(10), int64(8), object(3)\n",
      "memory usage: 155.4+ KB\n"
     ]
    }
   ],
   "source": [
    "df.info()"
   ]
  },
  {
   "cell_type": "code",
   "execution_count": 46,
   "id": "4d641071-8551-49d5-ba26-00cefd149bc6",
   "metadata": {},
   "outputs": [],
   "source": [
    "df = df.drop(columns=['DateSinceForSale'])"
   ]
  },
  {
   "cell_type": "code",
   "execution_count": 47,
   "id": "2c69c776-00dd-460f-ac38-6f0acc8fe342",
   "metadata": {},
   "outputs": [
    {
     "data": {
      "text/plain": [
       "Bedrooms                 0\n",
       "Bathrooms                0\n",
       "SquareFootageHouse       0\n",
       "Location                 6\n",
       "Age                      0\n",
       "PoolQuality              0\n",
       "HasPhotovoltaics       234\n",
       "HeatingType              0\n",
       "HasFiberglass            0\n",
       "IsFurnished              0\n",
       "HouseColor               0\n",
       "HasFireplace             0\n",
       "KitchensQuality          0\n",
       "BathroomsQuality         0\n",
       "BedroomsQuality          0\n",
       "LivingRoomsQuality       0\n",
       "SquareFootageGarden      0\n",
       "PreviousOwnerRating      0\n",
       "HeatingCosts             0\n",
       "Price                    0\n",
       "WindowMaterial           0\n",
       "dtype: int64"
      ]
     },
     "execution_count": 47,
     "metadata": {},
     "output_type": "execute_result"
    }
   ],
   "source": [
    "df.isna().sum()"
   ]
  },
  {
   "cell_type": "code",
   "execution_count": 48,
   "id": "42633bf2-d030-4755-8397-4188b840aa75",
   "metadata": {},
   "outputs": [
    {
     "data": {
      "text/plain": [
       "array([False, True, nan], dtype=object)"
      ]
     },
     "execution_count": 48,
     "metadata": {},
     "output_type": "execute_result"
    }
   ],
   "source": [
    "df['HasPhotovoltaics'].unique()"
   ]
  },
  {
   "cell_type": "code",
   "execution_count": 49,
   "id": "25b8111f-7185-4f38-bad4-b636e326a839",
   "metadata": {},
   "outputs": [],
   "source": [
    "df['HasPhotovoltaics'] = df['HasPhotovoltaics'].fillna('isNone')"
   ]
  },
  {
   "cell_type": "code",
   "execution_count": 50,
   "id": "eaeeb262-0ea7-447c-bc67-c0ff232663ed",
   "metadata": {},
   "outputs": [
    {
     "data": {
      "text/plain": [
       "array([False, True, 'isNone'], dtype=object)"
      ]
     },
     "execution_count": 50,
     "metadata": {},
     "output_type": "execute_result"
    }
   ],
   "source": [
    "df['HasPhotovoltaics'].unique()"
   ]
  },
  {
   "cell_type": "code",
   "execution_count": 51,
   "id": "7ae320bf-d38f-4d62-b069-955ce4f764e5",
   "metadata": {},
   "outputs": [],
   "source": [
    "df['HasPhotovoltaics'] = df['HasPhotovoltaics'].replace({True: 'isTrue', False: 'isFalse'})"
   ]
  },
  {
   "cell_type": "code",
   "execution_count": 57,
   "id": "993dfba6-4178-4e4d-82d1-8621a687cdbf",
   "metadata": {},
   "outputs": [
    {
     "data": {
      "text/plain": [
       "array(['isFalse', 'isTrue', 'isNone'], dtype=object)"
      ]
     },
     "execution_count": 57,
     "metadata": {},
     "output_type": "execute_result"
    }
   ],
   "source": [
    "df['HasPhotovoltaics'].unique()"
   ]
  },
  {
   "cell_type": "code",
   "execution_count": 53,
   "id": "8f791da0-614b-483f-8f3a-b0236cbbe54e",
   "metadata": {},
   "outputs": [],
   "source": [
    "df.to_csv('../files/preprocessed_1_without_DateSinceForSale.csv', index=False)"
   ]
  },
  {
   "cell_type": "code",
   "execution_count": 54,
   "id": "594f0604-6928-4825-8d1a-3a1ddc77204c",
   "metadata": {},
   "outputs": [],
   "source": [
    "df = pd.read_csv('../files/preprocessed_1_without_DateSinceForSale.csv')"
   ]
  },
  {
   "cell_type": "code",
   "execution_count": 55,
   "id": "9b611da2-ced1-4b0b-951b-3e254c52c8d1",
   "metadata": {},
   "outputs": [
    {
     "name": "stdout",
     "output_type": "stream",
     "text": [
      "<class 'pandas.core.frame.DataFrame'>\n",
      "RangeIndex: 941 entries, 0 to 940\n",
      "Data columns (total 21 columns):\n",
      " #   Column               Non-Null Count  Dtype  \n",
      "---  ------               --------------  -----  \n",
      " 0   Bedrooms             941 non-null    float64\n",
      " 1   Bathrooms            941 non-null    float64\n",
      " 2   SquareFootageHouse   941 non-null    float64\n",
      " 3   Location             935 non-null    float64\n",
      " 4   Age                  941 non-null    float64\n",
      " 5   PoolQuality          941 non-null    float64\n",
      " 6   HasPhotovoltaics     941 non-null    object \n",
      " 7   HeatingType          941 non-null    int64  \n",
      " 8   HasFiberglass        941 non-null    int64  \n",
      " 9   IsFurnished          941 non-null    int64  \n",
      " 10  HouseColor           941 non-null    object \n",
      " 11  HasFireplace         941 non-null    bool   \n",
      " 12  KitchensQuality      941 non-null    int64  \n",
      " 13  BathroomsQuality     941 non-null    int64  \n",
      " 14  BedroomsQuality      941 non-null    int64  \n",
      " 15  LivingRoomsQuality   941 non-null    int64  \n",
      " 16  SquareFootageGarden  941 non-null    float64\n",
      " 17  PreviousOwnerRating  941 non-null    float64\n",
      " 18  HeatingCosts         941 non-null    float64\n",
      " 19  Price                941 non-null    float64\n",
      " 20  WindowMaterial       941 non-null    int64  \n",
      "dtypes: bool(1), float64(10), int64(8), object(2)\n",
      "memory usage: 148.1+ KB\n"
     ]
    }
   ],
   "source": [
    "df.info()"
   ]
  },
  {
   "cell_type": "code",
   "execution_count": 56,
   "id": "67b2bd4a-ba77-4b50-9fd7-c4ad93d38c55",
   "metadata": {},
   "outputs": [
    {
     "data": {
      "text/plain": [
       "0    isFalse\n",
       "1     isTrue\n",
       "2    isFalse\n",
       "3    isFalse\n",
       "4     isNone\n",
       "Name: HasPhotovoltaics, dtype: object"
      ]
     },
     "execution_count": 56,
     "metadata": {},
     "output_type": "execute_result"
    }
   ],
   "source": [
    "df['HasPhotovoltaics'].head()"
   ]
  },
  {
   "cell_type": "code",
   "execution_count": null,
   "id": "346d67db-66cb-4372-952d-b7edd044364c",
   "metadata": {},
   "outputs": [],
   "source": []
  }
 ],
 "metadata": {
  "kernelspec": {
   "display_name": "Python 3 (ipykernel)",
   "language": "python",
   "name": "python3"
  },
  "language_info": {
   "codemirror_mode": {
    "name": "ipython",
    "version": 3
   },
   "file_extension": ".py",
   "mimetype": "text/x-python",
   "name": "python",
   "nbconvert_exporter": "python",
   "pygments_lexer": "ipython3",
   "version": "3.11.4"
  }
 },
 "nbformat": 4,
 "nbformat_minor": 5
}
